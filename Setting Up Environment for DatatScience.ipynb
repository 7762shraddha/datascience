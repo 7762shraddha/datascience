{
 "cells": [
  {
   "cell_type": "markdown",
   "metadata": {},
   "source": [
    "# Setting up Environment\n",
    "---"
   ]
  },
  {
   "cell_type": "markdown",
   "metadata": {},
   "source": [
    "## conda\n",
    "\n",
    "`conda` is commandline tool that comes with Anaconda package. `conda` helps manage virtual envrionments and packages within those environments."
   ]
  },
  {
   "cell_type": "markdown",
   "metadata": {},
   "source": [
    "`!conda --help`"
   ]
  },
  {
   "cell_type": "code",
   "execution_count": 2,
   "metadata": {
    "collapsed": false
   },
   "outputs": [
    {
     "name": "stdout",
     "output_type": "stream",
     "text": [
      "usage: conda [-h] [-V] [--debug] command ...\n",
      "\n",
      "conda is a tool for managing and deploying applications, environments and packages.\n",
      "\n",
      "Options:\n",
      "\n",
      "positional arguments:\n",
      "  command\n",
      "    info         Display information about current conda install.\n",
      "    help         Displays a list of available conda commands and their help\n",
      "                 strings.\n",
      "    list         List linked packages in a conda environment.\n",
      "    search       Search for packages and display their information. The input\n",
      "                 is a Python regular expression. To perform a search with a\n",
      "                 search string that starts with a -, separate the search from\n",
      "                 the options with --, like 'conda search -- -h'. A * in the\n",
      "                 results means that package is installed in the current\n",
      "                 environment. A . means that package is not installed but is\n",
      "                 cached in the pkgs directory.\n",
      "    create       Create a new conda environment from a list of specified\n",
      "                 packages.\n",
      "    install      Installs a list of packages into a specified conda\n",
      "                 environment.\n",
      "    update       Updates conda packages to the latest compatible version. This\n",
      "                 command accepts a list of package names and updates them to\n",
      "                 the latest versions that are compatible with all other\n",
      "                 packages in the environment. Conda attempts to install the\n",
      "                 newest versions of the requested packages. To accomplish\n",
      "                 this, it may update some packages that are already installed,\n",
      "                 or install additional packages. To prevent existing packages\n",
      "                 from updating, use the --no-update-deps option. This may\n",
      "                 force conda to install older versions of the requested\n",
      "                 packages, and it does not prevent additional dependency\n",
      "                 packages from being installed. If you wish to skip dependency\n",
      "                 checking altogether, use the '--force' option. This may\n",
      "                 result in an environment with incompatible packages, so this\n",
      "                 option must be used with great caution.\n",
      "    upgrade      Alias for conda update. See conda update --help.\n",
      "    remove       Remove a list of packages from a specified conda environment.\n",
      "    uninstall    Alias for conda remove. See conda remove --help.\n",
      "    config       Modify configuration values in .condarc. This is modeled\n",
      "                 after the git config command. Writes to the user .condarc\n",
      "                 file (/home/idwaker/.condarc) by default.\n",
      "    init         Initialize conda into a regular environment (when conda was\n",
      "                 installed as a Python package, e.g. using pip). (DEPRECATED)\n",
      "    clean        Remove unused packages and caches.\n",
      "    package      Low-level conda package utility. (EXPERIMENTAL)\n",
      "    bundle       Create or extract a \"bundle package\" (EXPERIMENTAL)\n",
      "\n",
      "optional arguments:\n",
      "  -h, --help     Show this help message and exit.\n",
      "  -V, --version  Show the conda version number and exit.\n",
      "  --debug        Show debug output.\n",
      "\n",
      "other commands:\n",
      "    env          positional arguments:\n",
      "                   {attach,create,export,list,remove,upload,update}\n",
      "                     attach              Embeds information describing your conda environment\n",
      "                                         into the notebook metadata\n",
      "                     create              Create an environment based on an environment file\n",
      "                     export              Export a given environment\n",
      "                     list                List the Conda environments\n",
      "                     remove              Remove an environment\n",
      "                     upload              Upload an environment to anaconda.org\n",
      "                     update              Update the current environment based on environment\n",
      "                                         file\n"
     ]
    }
   ],
   "source": [
    "!conda --help"
   ]
  },
  {
   "cell_type": "code",
   "execution_count": 4,
   "metadata": {
    "collapsed": false
   },
   "outputs": [
    {
     "name": "stdout",
     "output_type": "stream",
     "text": [
      "Fetching package metadata .......\n",
      "Solving package specifications: ..........\n",
      "\n",
      "Package plan for installation in environment /home/idwaker/miniconda3/envs/datascience:\n",
      "\n",
      "The following NEW packages will be INSTALLED:\n",
      "\n",
      "    openssl:    1.0.2h-1     \n",
      "    pip:        8.1.2-py35_0 \n",
      "    python:     3.5.1-5      \n",
      "    readline:   6.2-2        \n",
      "    setuptools: 23.0.0-py35_0\n",
      "    sqlite:     3.13.0-0     \n",
      "    tk:         8.5.18-0     \n",
      "    wheel:      0.29.0-py35_0\n",
      "    xz:         5.2.2-0      \n",
      "    zlib:       1.2.8-3      \n",
      "\n",
      "Linking packages ...\n",
      "[      COMPLETE      ]|###################################################| 100%\n",
      "No psutil available.\n",
      "To proceed, please conda install psutil#\n",
      "# To activate this environment, use:\n",
      "# $ source activate datascience\n",
      "#\n",
      "# To deactivate this environment, use:\n",
      "# $ source deactivate\n",
      "#\n"
     ]
    }
   ],
   "source": [
    "!~/miniconda3/bin/conda create -n datascience python -y"
   ]
  },
  {
   "cell_type": "markdown",
   "metadata": {},
   "source": [
    "!c:\\Anaconda3\\bin\\conda create -n datascience python -y"
   ]
  }
 ],
 "metadata": {
  "kernelspec": {
   "display_name": "Python 3",
   "language": "python",
   "name": "python3"
  },
  "language_info": {
   "codemirror_mode": {
    "name": "ipython",
    "version": 3
   },
   "file_extension": ".py",
   "mimetype": "text/x-python",
   "name": "python",
   "nbconvert_exporter": "python",
   "pygments_lexer": "ipython3",
   "version": "3.5.1"
  }
 },
 "nbformat": 4,
 "nbformat_minor": 0
}
